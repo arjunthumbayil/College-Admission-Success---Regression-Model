{
 "cells": [
  {
   "cell_type": "markdown",
   "metadata": {},
   "source": [
    "# US College Admission Success\n",
    "\n",
    "## Business Objective:\n",
    "\n",
    "    1. Build a smart Predictive tool that can assess the chances of a Student's entry into multiple Tier US Tech Schools.\n",
    "    2. Develop a prototype model that uses Student data to produce admission probability for each student.\n",
    "    3. Explore historical student data, using statistical analysis and Machine Learning, to understand and identify factors that may affect a Student's success at getting into their dream University.\n",
    "\n",
    "\n",
    "## Motivation:\n",
    "\n",
    "After observing many of my friends trying hard and not getting into the University of their choice in the US, I was intrigued to know whether the admission process that seems to be a black-box can be broken down using Analytical tools. Anxiety can be caused by low GRE and TOEFL scores. So, I shall look whether they play an important role or are there other factors than can quantitatively outweigh Standardized Test Scores. Furthermore, this tool can help students in building a stronger Profile.l\n",
    " \n",
    "\n",
    "## Workflow :\n",
    "\n",
    "   1. **Importing Libraries**\n",
    "      \n",
    "   2. **Data Pre-Processing**\n",
    "        - 2.1 Reading Data from the csv file.\n",
    "        - 2.2 Dummification of categorical Variables\n",
    "\n",
    "   3. **Data Modeling**\n",
    "        - 3.1 Statistical Learning\n",
    "            - Building a statistical Regression Model to find statistically significant factors.\n",
    "            - 3.1.1 Interpret the p-values (Set 5% as level of significance) \n",
    "                 - Analyzing important Factors with significance lower than 0.05.\n",
    "        - 3.2 Machine Learning\n",
    "            - Making a Machine Learning model that will finally yield the prediction.\n",
    "  \n",
    "## Results:\n",
    "\n",
    "|    **Model**     |    **Percentage RMSE**    | **R square**   | **Adjusted R-square**|\n",
    "|:------------:|:-----------------------------:|:----------------------:|:----------------------:|\n",
    "| `Linear Regression`| 9.84 |74.3|72|\n",
    "\n",
    "## Conclusion:\n",
    "\n",
    "Using a very simple Linear Regression model, the prediction of getting into a University is quite good. It is too be seen that TOEFL score is quite insignificant factor in deciding the admissibility of a student to any University. Whereas, GRE scores, University Tier, Letter of Recommendation and Previous Research can play an important role in predicting the admissibility.\n",
    "    \n"
   ]
  },
  {
   "cell_type": "markdown",
   "metadata": {},
   "source": [
    "# 1. Importing Libraries"
   ]
  },
  {
   "cell_type": "code",
   "execution_count": 1,
   "metadata": {},
   "outputs": [],
   "source": [
    "import pandas as pd\n",
    "import numpy as np\n",
    "from sklearn.model_selection import train_test_split\n",
    "from sklearn import metrics\n",
    "import statsmodels.api as sm\n"
   ]
  },
  {
   "cell_type": "markdown",
   "metadata": {},
   "source": [
    "# 2. Data Pre-processing"
   ]
  },
  {
   "cell_type": "markdown",
   "metadata": {},
   "source": [
    "## 2.1 Reading Data from the csv file"
   ]
  },
  {
   "cell_type": "code",
   "execution_count": 2,
   "metadata": {},
   "outputs": [],
   "source": [
    "admission = pd.read_csv(\"Admissions.csv\")"
   ]
  },
  {
   "cell_type": "code",
   "execution_count": 3,
   "metadata": {},
   "outputs": [],
   "source": [
    "admission = admission.drop('Serial No.', axis =1)\n"
   ]
  },
  {
   "cell_type": "code",
   "execution_count": 4,
   "metadata": {},
   "outputs": [
    {
     "data": {
      "text/html": [
       "<div>\n",
       "<style scoped>\n",
       "    .dataframe tbody tr th:only-of-type {\n",
       "        vertical-align: middle;\n",
       "    }\n",
       "\n",
       "    .dataframe tbody tr th {\n",
       "        vertical-align: top;\n",
       "    }\n",
       "\n",
       "    .dataframe thead th {\n",
       "        text-align: right;\n",
       "    }\n",
       "</style>\n",
       "<table border=\"1\" class=\"dataframe\">\n",
       "  <thead>\n",
       "    <tr style=\"text-align: right;\">\n",
       "      <th></th>\n",
       "      <th>GRE Score</th>\n",
       "      <th>TOEFL Score</th>\n",
       "      <th>University Rating</th>\n",
       "      <th>SOP</th>\n",
       "      <th>LOR</th>\n",
       "      <th>CGPA</th>\n",
       "      <th>Research</th>\n",
       "      <th>Chance of Admit</th>\n",
       "    </tr>\n",
       "  </thead>\n",
       "  <tbody>\n",
       "    <tr>\n",
       "      <th>0</th>\n",
       "      <td>337</td>\n",
       "      <td>118</td>\n",
       "      <td>4</td>\n",
       "      <td>4.5</td>\n",
       "      <td>4.5</td>\n",
       "      <td>9.65</td>\n",
       "      <td>1</td>\n",
       "      <td>0.92</td>\n",
       "    </tr>\n",
       "    <tr>\n",
       "      <th>1</th>\n",
       "      <td>324</td>\n",
       "      <td>107</td>\n",
       "      <td>4</td>\n",
       "      <td>4.0</td>\n",
       "      <td>4.5</td>\n",
       "      <td>8.87</td>\n",
       "      <td>1</td>\n",
       "      <td>0.76</td>\n",
       "    </tr>\n",
       "    <tr>\n",
       "      <th>2</th>\n",
       "      <td>316</td>\n",
       "      <td>104</td>\n",
       "      <td>3</td>\n",
       "      <td>3.0</td>\n",
       "      <td>3.5</td>\n",
       "      <td>8.00</td>\n",
       "      <td>1</td>\n",
       "      <td>0.72</td>\n",
       "    </tr>\n",
       "    <tr>\n",
       "      <th>3</th>\n",
       "      <td>322</td>\n",
       "      <td>110</td>\n",
       "      <td>3</td>\n",
       "      <td>3.5</td>\n",
       "      <td>2.5</td>\n",
       "      <td>8.67</td>\n",
       "      <td>1</td>\n",
       "      <td>0.80</td>\n",
       "    </tr>\n",
       "    <tr>\n",
       "      <th>4</th>\n",
       "      <td>314</td>\n",
       "      <td>103</td>\n",
       "      <td>2</td>\n",
       "      <td>2.0</td>\n",
       "      <td>3.0</td>\n",
       "      <td>8.21</td>\n",
       "      <td>0</td>\n",
       "      <td>0.65</td>\n",
       "    </tr>\n",
       "  </tbody>\n",
       "</table>\n",
       "</div>"
      ],
      "text/plain": [
       "   GRE Score  TOEFL Score  University Rating  SOP  LOR   CGPA  Research  \\\n",
       "0        337          118                  4  4.5   4.5  9.65         1   \n",
       "1        324          107                  4  4.0   4.5  8.87         1   \n",
       "2        316          104                  3  3.0   3.5  8.00         1   \n",
       "3        322          110                  3  3.5   2.5  8.67         1   \n",
       "4        314          103                  2  2.0   3.0  8.21         0   \n",
       "\n",
       "   Chance of Admit   \n",
       "0              0.92  \n",
       "1              0.76  \n",
       "2              0.72  \n",
       "3              0.80  \n",
       "4              0.65  "
      ]
     },
     "execution_count": 4,
     "metadata": {},
     "output_type": "execute_result"
    }
   ],
   "source": [
    "admission.head()\n"
   ]
  },
  {
   "cell_type": "code",
   "execution_count": 5,
   "metadata": {},
   "outputs": [
    {
     "name": "stdout",
     "output_type": "stream",
     "text": [
      "<class 'pandas.core.frame.DataFrame'>\n",
      "RangeIndex: 400 entries, 0 to 399\n",
      "Data columns (total 8 columns):\n",
      "GRE Score            400 non-null int64\n",
      "TOEFL Score          400 non-null int64\n",
      "University Rating    400 non-null int64\n",
      "SOP                  400 non-null float64\n",
      "LOR                  400 non-null float64\n",
      "CGPA                 400 non-null float64\n",
      "Research             400 non-null int64\n",
      "Chance of Admit      400 non-null float64\n",
      "dtypes: float64(4), int64(4)\n",
      "memory usage: 25.1 KB\n"
     ]
    }
   ],
   "source": [
    "admission.info()"
   ]
  },
  {
   "cell_type": "code",
   "execution_count": 6,
   "metadata": {
    "scrolled": true
   },
   "outputs": [
    {
     "data": {
      "text/html": [
       "<div>\n",
       "<style scoped>\n",
       "    .dataframe tbody tr th:only-of-type {\n",
       "        vertical-align: middle;\n",
       "    }\n",
       "\n",
       "    .dataframe tbody tr th {\n",
       "        vertical-align: top;\n",
       "    }\n",
       "\n",
       "    .dataframe thead th {\n",
       "        text-align: right;\n",
       "    }\n",
       "</style>\n",
       "<table border=\"1\" class=\"dataframe\">\n",
       "  <thead>\n",
       "    <tr style=\"text-align: right;\">\n",
       "      <th></th>\n",
       "      <th>count</th>\n",
       "      <th>mean</th>\n",
       "      <th>std</th>\n",
       "      <th>min</th>\n",
       "      <th>25%</th>\n",
       "      <th>50%</th>\n",
       "      <th>75%</th>\n",
       "      <th>max</th>\n",
       "    </tr>\n",
       "  </thead>\n",
       "  <tbody>\n",
       "    <tr>\n",
       "      <th>GRE Score</th>\n",
       "      <td>400.0</td>\n",
       "      <td>316.807500</td>\n",
       "      <td>11.473646</td>\n",
       "      <td>290.00</td>\n",
       "      <td>308.00</td>\n",
       "      <td>317.00</td>\n",
       "      <td>325.0000</td>\n",
       "      <td>340.00</td>\n",
       "    </tr>\n",
       "    <tr>\n",
       "      <th>TOEFL Score</th>\n",
       "      <td>400.0</td>\n",
       "      <td>107.410000</td>\n",
       "      <td>6.069514</td>\n",
       "      <td>92.00</td>\n",
       "      <td>103.00</td>\n",
       "      <td>107.00</td>\n",
       "      <td>112.0000</td>\n",
       "      <td>120.00</td>\n",
       "    </tr>\n",
       "    <tr>\n",
       "      <th>University Rating</th>\n",
       "      <td>400.0</td>\n",
       "      <td>3.087500</td>\n",
       "      <td>1.143728</td>\n",
       "      <td>1.00</td>\n",
       "      <td>2.00</td>\n",
       "      <td>3.00</td>\n",
       "      <td>4.0000</td>\n",
       "      <td>5.00</td>\n",
       "    </tr>\n",
       "    <tr>\n",
       "      <th>SOP</th>\n",
       "      <td>400.0</td>\n",
       "      <td>3.400000</td>\n",
       "      <td>1.006869</td>\n",
       "      <td>1.00</td>\n",
       "      <td>2.50</td>\n",
       "      <td>3.50</td>\n",
       "      <td>4.0000</td>\n",
       "      <td>5.00</td>\n",
       "    </tr>\n",
       "    <tr>\n",
       "      <th>LOR</th>\n",
       "      <td>400.0</td>\n",
       "      <td>3.452500</td>\n",
       "      <td>0.898478</td>\n",
       "      <td>1.00</td>\n",
       "      <td>3.00</td>\n",
       "      <td>3.50</td>\n",
       "      <td>4.0000</td>\n",
       "      <td>5.00</td>\n",
       "    </tr>\n",
       "    <tr>\n",
       "      <th>CGPA</th>\n",
       "      <td>400.0</td>\n",
       "      <td>8.598925</td>\n",
       "      <td>0.596317</td>\n",
       "      <td>6.80</td>\n",
       "      <td>8.17</td>\n",
       "      <td>8.61</td>\n",
       "      <td>9.0625</td>\n",
       "      <td>9.92</td>\n",
       "    </tr>\n",
       "    <tr>\n",
       "      <th>Research</th>\n",
       "      <td>400.0</td>\n",
       "      <td>0.547500</td>\n",
       "      <td>0.498362</td>\n",
       "      <td>0.00</td>\n",
       "      <td>0.00</td>\n",
       "      <td>1.00</td>\n",
       "      <td>1.0000</td>\n",
       "      <td>1.00</td>\n",
       "    </tr>\n",
       "    <tr>\n",
       "      <th>Chance of Admit</th>\n",
       "      <td>400.0</td>\n",
       "      <td>0.724350</td>\n",
       "      <td>0.142609</td>\n",
       "      <td>0.34</td>\n",
       "      <td>0.64</td>\n",
       "      <td>0.73</td>\n",
       "      <td>0.8300</td>\n",
       "      <td>0.97</td>\n",
       "    </tr>\n",
       "  </tbody>\n",
       "</table>\n",
       "</div>"
      ],
      "text/plain": [
       "                   count        mean        std     min     25%     50%  \\\n",
       "GRE Score          400.0  316.807500  11.473646  290.00  308.00  317.00   \n",
       "TOEFL Score        400.0  107.410000   6.069514   92.00  103.00  107.00   \n",
       "University Rating  400.0    3.087500   1.143728    1.00    2.00    3.00   \n",
       "SOP                400.0    3.400000   1.006869    1.00    2.50    3.50   \n",
       "LOR                400.0    3.452500   0.898478    1.00    3.00    3.50   \n",
       "CGPA               400.0    8.598925   0.596317    6.80    8.17    8.61   \n",
       "Research           400.0    0.547500   0.498362    0.00    0.00    1.00   \n",
       "Chance of Admit    400.0    0.724350   0.142609    0.34    0.64    0.73   \n",
       "\n",
       "                        75%     max  \n",
       "GRE Score          325.0000  340.00  \n",
       "TOEFL Score        112.0000  120.00  \n",
       "University Rating    4.0000    5.00  \n",
       "SOP                  4.0000    5.00  \n",
       "LOR                  4.0000    5.00  \n",
       "CGPA                 9.0625    9.92  \n",
       "Research             1.0000    1.00  \n",
       "Chance of Admit      0.8300    0.97  "
      ]
     },
     "execution_count": 6,
     "metadata": {},
     "output_type": "execute_result"
    }
   ],
   "source": [
    "admission.describe().T"
   ]
  },
  {
   "cell_type": "markdown",
   "metadata": {},
   "source": [
    "## 2.2 Dummification of categorical columns"
   ]
  },
  {
   "cell_type": "code",
   "execution_count": 11,
   "metadata": {},
   "outputs": [],
   "source": [
    "# Converting necessary columns into categorical ones\n",
    "\n",
    "admission['University Rating'] = pd.Categorical(admission['University Rating'])\n",
    "admission['Research'] = pd.Categorical(admission['Research'])\n"
   ]
  },
  {
   "cell_type": "code",
   "execution_count": 12,
   "metadata": {},
   "outputs": [
    {
     "data": {
      "text/plain": [
       "['GRE Score',\n",
       " 'TOEFL Score',\n",
       " 'University Rating',\n",
       " 'SOP',\n",
       " 'LOR ',\n",
       " 'CGPA',\n",
       " 'Research',\n",
       " 'Chance of Admit ']"
      ]
     },
     "execution_count": 12,
     "metadata": {},
     "output_type": "execute_result"
    }
   ],
   "source": [
    "# Dummification of categorical columns\n",
    "variables = list(admission.columns)\n",
    "\n",
    "variables"
   ]
  },
  {
   "cell_type": "code",
   "execution_count": 19,
   "metadata": {},
   "outputs": [],
   "source": [
    "admits = pd.get_dummies(data = admission[['GRE Score',\n",
    " 'TOEFL Score',\n",
    " 'University Rating',\n",
    " 'SOP',\n",
    " 'LOR ',\n",
    " 'CGPA',\n",
    " 'Research']], drop_first = True)"
   ]
  },
  {
   "cell_type": "code",
   "execution_count": 20,
   "metadata": {},
   "outputs": [
    {
     "data": {
      "text/plain": [
       "Index(['GRE Score', 'TOEFL Score', 'SOP', 'LOR ', 'CGPA',\n",
       "       'University Rating_2', 'University Rating_3', 'University Rating_4',\n",
       "       'University Rating_5', 'Research_1'],\n",
       "      dtype='object')"
      ]
     },
     "execution_count": 20,
     "metadata": {},
     "output_type": "execute_result"
    }
   ],
   "source": [
    "admits.columns"
   ]
  },
  {
   "cell_type": "markdown",
   "metadata": {},
   "source": [
    "# 3. Data Modeling"
   ]
  },
  {
   "cell_type": "code",
   "execution_count": 24,
   "metadata": {},
   "outputs": [],
   "source": [
    "x = admits[['GRE Score', 'TOEFL Score', 'SOP', 'LOR ', 'CGPA',\n",
    "       'University Rating_2', 'University Rating_3', 'University Rating_4',\n",
    "       'University Rating_5', 'Research_1']]\n",
    "y = admission[['Chance of Admit ']]"
   ]
  },
  {
   "cell_type": "code",
   "execution_count": 26,
   "metadata": {},
   "outputs": [],
   "source": [
    "## Splitting the data into Test and Train in 70:30 ratio\n",
    "\n",
    "x_train, x_test, y_train, y_test = train_test_split(x,y, test_size = 0.3, random_state = 10)"
   ]
  },
  {
   "cell_type": "code",
   "execution_count": 27,
   "metadata": {},
   "outputs": [
    {
     "name": "stdout",
     "output_type": "stream",
     "text": [
      "train: 0.7% | Test: 0.3%\n"
     ]
    }
   ],
   "source": [
    "# print proportions\n",
    "print('train: {}% | Test: {}%'.format( round(len(y_train)/len(y),2), \n",
    "                                                        round(len(y_test)/len(y),2) ) )"
   ]
  },
  {
   "cell_type": "markdown",
   "metadata": {},
   "source": [
    "## 3.1 Statistical Learning"
   ]
  },
  {
   "cell_type": "code",
   "execution_count": 29,
   "metadata": {
    "scrolled": true
   },
   "outputs": [
    {
     "data": {
      "text/html": [
       "<table class=\"simpletable\">\n",
       "<caption>OLS Regression Results</caption>\n",
       "<tr>\n",
       "  <th>Dep. Variable:</th>    <td>Chance of Admit </td> <th>  R-squared:         </th> <td>   0.991</td> \n",
       "</tr>\n",
       "<tr>\n",
       "  <th>Model:</th>                   <td>OLS</td>       <th>  Adj. R-squared:    </th> <td>   0.991</td> \n",
       "</tr>\n",
       "<tr>\n",
       "  <th>Method:</th>             <td>Least Squares</td>  <th>  F-statistic:       </th> <td>   3145.</td> \n",
       "</tr>\n",
       "<tr>\n",
       "  <th>Date:</th>             <td>Sun, 04 Nov 2018</td> <th>  Prob (F-statistic):</th> <td>5.11e-273</td>\n",
       "</tr>\n",
       "<tr>\n",
       "  <th>Time:</th>                 <td>15:56:15</td>     <th>  Log-Likelihood:    </th> <td>  354.08</td> \n",
       "</tr>\n",
       "<tr>\n",
       "  <th>No. Observations:</th>      <td>   280</td>      <th>  AIC:               </th> <td>  -688.2</td> \n",
       "</tr>\n",
       "<tr>\n",
       "  <th>Df Residuals:</th>          <td>   270</td>      <th>  BIC:               </th> <td>  -651.8</td> \n",
       "</tr>\n",
       "<tr>\n",
       "  <th>Df Model:</th>              <td>    10</td>      <th>                     </th>     <td> </td>    \n",
       "</tr>\n",
       "<tr>\n",
       "  <th>Covariance Type:</th>      <td>nonrobust</td>    <th>                     </th>     <td> </td>    \n",
       "</tr>\n",
       "</table>\n",
       "<table class=\"simpletable\">\n",
       "<tr>\n",
       "           <td></td>              <th>coef</th>     <th>std err</th>      <th>t</th>      <th>P>|t|</th>  <th>[0.025</th>    <th>0.975]</th>  \n",
       "</tr>\n",
       "<tr>\n",
       "  <th>GRE Score</th>           <td>   -0.0026</td> <td>    0.001</td> <td>   -5.066</td> <td> 0.000</td> <td>   -0.004</td> <td>   -0.002</td>\n",
       "</tr>\n",
       "<tr>\n",
       "  <th>TOEFL Score</th>         <td>    0.0019</td> <td>    0.001</td> <td>    1.356</td> <td> 0.176</td> <td>   -0.001</td> <td>    0.005</td>\n",
       "</tr>\n",
       "<tr>\n",
       "  <th>SOP</th>                 <td>    0.0007</td> <td>    0.007</td> <td>    0.094</td> <td> 0.926</td> <td>   -0.014</td> <td>    0.015</td>\n",
       "</tr>\n",
       "<tr>\n",
       "  <th>LOR </th>                <td>    0.0219</td> <td>    0.007</td> <td>    3.093</td> <td> 0.002</td> <td>    0.008</td> <td>    0.036</td>\n",
       "</tr>\n",
       "<tr>\n",
       "  <th>CGPA</th>                <td>    0.1419</td> <td>    0.016</td> <td>    8.904</td> <td> 0.000</td> <td>    0.111</td> <td>    0.173</td>\n",
       "</tr>\n",
       "<tr>\n",
       "  <th>University Rating_2</th> <td>   -0.0043</td> <td>    0.019</td> <td>   -0.225</td> <td> 0.822</td> <td>   -0.041</td> <td>    0.033</td>\n",
       "</tr>\n",
       "<tr>\n",
       "  <th>University Rating_3</th> <td>    0.0204</td> <td>    0.021</td> <td>    0.996</td> <td> 0.320</td> <td>   -0.020</td> <td>    0.061</td>\n",
       "</tr>\n",
       "<tr>\n",
       "  <th>University Rating_4</th> <td>    0.0469</td> <td>    0.025</td> <td>    1.898</td> <td> 0.059</td> <td>   -0.002</td> <td>    0.096</td>\n",
       "</tr>\n",
       "<tr>\n",
       "  <th>University Rating_5</th> <td>    0.0793</td> <td>    0.028</td> <td>    2.842</td> <td> 0.005</td> <td>    0.024</td> <td>    0.134</td>\n",
       "</tr>\n",
       "<tr>\n",
       "  <th>Research_1</th>          <td>    0.0469</td> <td>    0.010</td> <td>    4.817</td> <td> 0.000</td> <td>    0.028</td> <td>    0.066</td>\n",
       "</tr>\n",
       "</table>\n",
       "<table class=\"simpletable\">\n",
       "<tr>\n",
       "  <th>Omnibus:</th>       <td>41.064</td> <th>  Durbin-Watson:     </th> <td>   1.792</td>\n",
       "</tr>\n",
       "<tr>\n",
       "  <th>Prob(Omnibus):</th> <td> 0.000</td> <th>  Jarque-Bera (JB):  </th> <td>  62.542</td>\n",
       "</tr>\n",
       "<tr>\n",
       "  <th>Skew:</th>          <td>-0.884</td> <th>  Prob(JB):          </th> <td>2.63e-14</td>\n",
       "</tr>\n",
       "<tr>\n",
       "  <th>Kurtosis:</th>      <td> 4.496</td> <th>  Cond. No.          </th> <td>3.50e+03</td>\n",
       "</tr>\n",
       "</table><br/><br/>Warnings:<br/>[1] Standard Errors assume that the covariance matrix of the errors is correctly specified.<br/>[2] The condition number is large, 3.5e+03. This might indicate that there are<br/>strong multicollinearity or other numerical problems."
      ],
      "text/plain": [
       "<class 'statsmodels.iolib.summary.Summary'>\n",
       "\"\"\"\n",
       "                            OLS Regression Results                            \n",
       "==============================================================================\n",
       "Dep. Variable:       Chance of Admit    R-squared:                       0.991\n",
       "Model:                            OLS   Adj. R-squared:                  0.991\n",
       "Method:                 Least Squares   F-statistic:                     3145.\n",
       "Date:                Sun, 04 Nov 2018   Prob (F-statistic):          5.11e-273\n",
       "Time:                        15:56:15   Log-Likelihood:                 354.08\n",
       "No. Observations:                 280   AIC:                            -688.2\n",
       "Df Residuals:                     270   BIC:                            -651.8\n",
       "Df Model:                          10                                         \n",
       "Covariance Type:            nonrobust                                         \n",
       "=======================================================================================\n",
       "                          coef    std err          t      P>|t|      [0.025      0.975]\n",
       "---------------------------------------------------------------------------------------\n",
       "GRE Score              -0.0026      0.001     -5.066      0.000      -0.004      -0.002\n",
       "TOEFL Score             0.0019      0.001      1.356      0.176      -0.001       0.005\n",
       "SOP                     0.0007      0.007      0.094      0.926      -0.014       0.015\n",
       "LOR                     0.0219      0.007      3.093      0.002       0.008       0.036\n",
       "CGPA                    0.1419      0.016      8.904      0.000       0.111       0.173\n",
       "University Rating_2    -0.0043      0.019     -0.225      0.822      -0.041       0.033\n",
       "University Rating_3     0.0204      0.021      0.996      0.320      -0.020       0.061\n",
       "University Rating_4     0.0469      0.025      1.898      0.059      -0.002       0.096\n",
       "University Rating_5     0.0793      0.028      2.842      0.005       0.024       0.134\n",
       "Research_1              0.0469      0.010      4.817      0.000       0.028       0.066\n",
       "==============================================================================\n",
       "Omnibus:                       41.064   Durbin-Watson:                   1.792\n",
       "Prob(Omnibus):                  0.000   Jarque-Bera (JB):               62.542\n",
       "Skew:                          -0.884   Prob(JB):                     2.63e-14\n",
       "Kurtosis:                       4.496   Cond. No.                     3.50e+03\n",
       "==============================================================================\n",
       "\n",
       "Warnings:\n",
       "[1] Standard Errors assume that the covariance matrix of the errors is correctly specified.\n",
       "[2] The condition number is large, 3.5e+03. This might indicate that there are\n",
       "strong multicollinearity or other numerical problems.\n",
       "\"\"\""
      ]
     },
     "execution_count": 29,
     "metadata": {},
     "output_type": "execute_result"
    }
   ],
   "source": [
    "# Build the model using the train data\n",
    "# Define the model\n",
    "\n",
    "\n",
    "lm = sm.OLS(y_train,x_train).fit()\n",
    "\n",
    "# Model Summary\n",
    "lm.summary()"
   ]
  },
  {
   "cell_type": "markdown",
   "metadata": {},
   "source": [
    "## 3.1.1 Interpret the p-values (Set 5% as level of significance) "
   ]
  },
  {
   "cell_type": "code",
   "execution_count": 39,
   "metadata": {},
   "outputs": [
    {
     "data": {
      "text/plain": [
       "['GRE Score', 'LOR ', 'CGPA', 'University Rating_5', 'Research_1']"
      ]
     },
     "execution_count": 39,
     "metadata": {},
     "output_type": "execute_result"
    }
   ],
   "source": [
    "# Function to get p-value<0.05\n",
    "def get_significant_vars( lm ):\n",
    "    var_p_vals_df = pd.DataFrame( lm.pvalues )\n",
    "    var_p_vals_df['vars'] = var_p_vals_df.index\n",
    "    var_p_vals_df.columns = ['pvals', 'vars']\n",
    "    return list( var_p_vals_df[var_p_vals_df.pvals <= 0.05]['vars'] )\n",
    "global significant_vars\n",
    "significant_vars = get_significant_vars( lm )\n",
    "significant_vars"
   ]
  },
  {
   "cell_type": "markdown",
   "metadata": {},
   "source": [
    "## 3.2 Machine Learning"
   ]
  },
  {
   "cell_type": "code",
   "execution_count": 30,
   "metadata": {},
   "outputs": [],
   "source": [
    "from sklearn.linear_model import LinearRegression\n"
   ]
  },
  {
   "cell_type": "code",
   "execution_count": 31,
   "metadata": {},
   "outputs": [],
   "source": [
    "model1 = LinearRegression()\n"
   ]
  },
  {
   "cell_type": "code",
   "execution_count": 32,
   "metadata": {},
   "outputs": [],
   "source": [
    "m2 = model1.fit(x_train,y_train)\n"
   ]
  },
  {
   "cell_type": "code",
   "execution_count": 33,
   "metadata": {},
   "outputs": [],
   "source": [
    "# R-square\n",
    "m2.score(x_test,y_test)\n",
    "# Residual Standard Error\n",
    "\n",
    "avgYtest = np.mean(y_test)\n",
    "yTestPred = m2.predict(x_test)\n",
    "mse = metrics.mean_squared_error(y_test, yTestPred)\n",
    "test_rmse = np.sqrt(mse)\n",
    "test_rmse_percent = (test_rmse/avgYtest*100)\n",
    "\n",
    "# Adjusted R^2\n",
    "Rsquare = m2.score(x_test,y_test)\n",
    "noData = len(y_test)\n",
    "p = x_test.shape[1]\n",
    "tempRsquare = 1 - ((1 - Rsquare)*(noData - 1 ))/(noData - p - 1)"
   ]
  },
  {
   "cell_type": "code",
   "execution_count": 34,
   "metadata": {},
   "outputs": [
    {
     "name": "stdout",
     "output_type": "stream",
     "text": [
      "RMSE Percentage Error for Test Data : [9.848498944659614]\n",
      "R-square for Test Data: 0.7437398170329537\n",
      "Adjusted R-square for Test Data: 0.7202297085038669\n"
     ]
    }
   ],
   "source": [
    "print(\"RMSE Percentage Error for Test Data :\", list(test_rmse_percent))\n",
    "print(\"R-square for Test Data:\", m2.score(x_test,y_test))\n",
    "print(\"Adjusted R-square for Test Data:\", tempRsquare)"
   ]
  },
  {
   "cell_type": "code",
   "execution_count": 35,
   "metadata": {},
   "outputs": [
    {
     "data": {
      "text/plain": [
       "Index(['GRE Score', 'TOEFL Score', 'SOP', 'LOR ', 'CGPA',\n",
       "       'University Rating_2', 'University Rating_3', 'University Rating_4',\n",
       "       'University Rating_5', 'Research_1'],\n",
       "      dtype='object')"
      ]
     },
     "execution_count": 35,
     "metadata": {},
     "output_type": "execute_result"
    }
   ],
   "source": [
    "admits.columns\n"
   ]
  },
  {
   "cell_type": "markdown",
   "metadata": {},
   "source": [
    "#### Predicting the chance of admit for the given attributes :\n",
    "\n",
    "| **GRE Score** | **TOEFL Score** | **University Ranking** | **SOP** | **LOR** | **CGPA** | **Research** |\n",
    "|:-------------:|:-------------:|:-------------:|:-------------:|:-------------:|:-------------:|:-------------:|\n",
    "| 295 | 98 | 4 | 4.5 | 4.5| 7.56 | 1 |\n",
    "| 333 | 112 | 4 | 4.5 | 4.5 | 8.87 | 1 |"
   ]
  },
  {
   "cell_type": "code",
   "execution_count": 36,
   "metadata": {},
   "outputs": [],
   "source": [
    "newAdmission = {'GRE_Score': [295,333], 'TOEFL_Score': [98,112],'SOP': [4.5,4.5], 'LOR ' :[4.5,4.5],\n",
    "                'CGPA' : [7.56,8.87],'University_Rating_1': [0,0],'University_Rating_2': [0,0],'University_Rating_3': [0,0],'University_Rating_4': [1,1],  'Research_1': [1,1]}\n",
    "newAdmission = pd.DataFrame(data=newAdmission)"
   ]
  },
  {
   "cell_type": "code",
   "execution_count": 37,
   "metadata": {
    "scrolled": true
   },
   "outputs": [
    {
     "data": {
      "text/plain": [
       "0    0.716673\n",
       "1    0.829938\n",
       "dtype: float64"
      ]
     },
     "execution_count": 37,
     "metadata": {},
     "output_type": "execute_result"
    }
   ],
   "source": [
    "# Prediction of 'Chance of Admit'\n",
    "lm.predict(newAdmission)"
   ]
  }
 ],
 "metadata": {
  "kernelspec": {
   "display_name": "Python 3",
   "language": "python",
   "name": "python3"
  },
  "language_info": {
   "codemirror_mode": {
    "name": "ipython",
    "version": 3
   },
   "file_extension": ".py",
   "mimetype": "text/x-python",
   "name": "python",
   "nbconvert_exporter": "python",
   "pygments_lexer": "ipython3",
   "version": "3.7.0"
  }
 },
 "nbformat": 4,
 "nbformat_minor": 2
}
